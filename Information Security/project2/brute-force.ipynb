{
 "cells": [
  {
   "cell_type": "markdown",
   "metadata": {},
   "source": [
    "# Problem #1\n",
    "### brute-force attack - computing k & xA\n"
   ]
  },
  {
   "cell_type": "code",
   "execution_count": 6,
   "metadata": {},
   "outputs": [
    {
     "name": "stdout",
     "output_type": "stream",
     "text": [
      "k = 906463618& Xa = 202141387003\n"
     ]
    }
   ],
   "source": [
    "Q = 15383399235709406497 # modulus Q\n",
    "test = 9102542540062670476 # 3^189 mod q\n",
    "mul_operand = 6504488417728282620 # 3^223 mod q\n",
    "\n",
    "for k in range(0, 34491926537465036):\n",
    "    # 34491926537465036 = ((Q-1)/2 -189)/223\n",
    "    if(test % Q == 12036625823877237123):\n",
    "        print(\"k = \" + str(k) + \"& Xa = \" + str(189+223*k))\n",
    "        break\n",
    "    test = (test*mul_operand)%Q"
   ]
  },
  {
   "cell_type": "markdown",
   "metadata": {},
   "source": [
    "# Problem #2\n",
    "### brute-force attack - computing k & xA"
   ]
  },
  {
   "cell_type": "code",
   "execution_count": 5,
   "metadata": {},
   "outputs": [
    {
     "name": "stdout",
     "output_type": "stream",
     "text": [
      "k = 7642041& Xa = 721530968069\n"
     ]
    }
   ],
   "source": [
    "Q = 15383399235709406497 # modulus Q\n",
    "test = 8913546557048774327 # 3^25013 mod q\n",
    "mul_operand = 13128116860492580201 # 3^94416 mod q\n",
    "\n",
    "for k in range(0, 81466061026253):\n",
    "    # 81466061026253 ~ ((Q-1)/2 - 25013)/94416\n",
    "    if(test % Q == 3255928389273017819):\n",
    "        print(\"k = \" + str(k) + \"& Xa = \" + str(25013+94416*k))\n",
    "        break\n",
    "    test = (test*mul_operand)%Q"
   ]
  }
 ],
 "metadata": {
  "kernelspec": {
   "display_name": "Python 3",
   "language": "python",
   "name": "python3"
  },
  "language_info": {
   "codemirror_mode": {
    "name": "ipython",
    "version": 3
   },
   "file_extension": ".py",
   "mimetype": "text/x-python",
   "name": "python",
   "nbconvert_exporter": "python",
   "pygments_lexer": "ipython3",
   "version": "3.6.4"
  }
 },
 "nbformat": 4,
 "nbformat_minor": 1
}
